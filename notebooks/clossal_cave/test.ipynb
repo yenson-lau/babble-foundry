{
 "cells": [
  {
   "cell_type": "code",
   "execution_count": null,
   "id": "901d78ae",
   "metadata": {},
   "outputs": [],
   "source": "# Starting Game 3 - 100 turns goal\nfrom play_game import new_game\ngame = new_game()"
  },
  {
   "cell_type": "code",
   "execution_count": 2,
   "id": "6a6eb37f",
   "metadata": {},
   "outputs": [
    {
     "name": "stdout",
     "output_type": "stream",
     "text": [
      "YOU'RE NOT CARRYING ANYTHING.\n"
     ]
    }
   ],
   "source": [
    "game.input(\"inventory\")\n",
    "print(game.output)"
   ]
  },
  {
   "cell_type": "code",
   "execution_count": 3,
   "id": "773a5ce4",
   "metadata": {},
   "outputs": [
    {
     "name": "stdout",
     "output_type": "stream",
     "text": [
      "YOU ARE INSIDE A BUILDING, A WELL HOUSE FOR A LARGE SPRING.\n",
      "\n",
      "THERE ARE SOME KEYS ON THE GROUND HERE.\n",
      "\n",
      "THERE IS A SHINY BRASS LAMP NEARBY.\n",
      "\n",
      "THERE IS FOOD HERE.\n",
      "\n",
      "THERE IS A BOTTLE OF WATER HERE.\n"
     ]
    }
   ],
   "source": [
    "game.input('east')\n",
    "print(game.output)"
   ]
  },
  {
   "cell_type": "code",
   "execution_count": 4,
   "id": "1395864d",
   "metadata": {},
   "outputs": [],
   "source": [
    "game.save(\"test.save\")"
   ]
  },
  {
   "cell_type": "code",
   "execution_count": 5,
   "id": "01af38ea",
   "metadata": {},
   "outputs": [
    {
     "name": "stdout",
     "output_type": "stream",
     "text": [
      "YOU ARE INSIDE A BUILDING, A WELL HOUSE FOR A LARGE SPRING.\n",
      "\n",
      "THERE ARE SOME KEYS ON THE GROUND HERE.\n",
      "\n",
      "THERE IS A SHINY BRASS LAMP NEARBY.\n",
      "\n",
      "THERE IS FOOD HERE.\n",
      "\n",
      "THERE IS A BOTTLE OF WATER HERE.\n"
     ]
    }
   ],
   "source": [
    "game = ClossalCaveGame.load(\"test.save\")\n",
    "print(game.output)"
   ]
  }
 ],
 "metadata": {
  "kernelspec": {
   "display_name": ".venv",
   "language": "python",
   "name": "python3"
  },
  "language_info": {
   "codemirror_mode": {
    "name": "ipython",
    "version": 3
   },
   "file_extension": ".py",
   "mimetype": "text/x-python",
   "name": "python",
   "nbconvert_exporter": "python",
   "pygments_lexer": "ipython3",
   "version": "3.13.7"
  }
 },
 "nbformat": 4,
 "nbformat_minor": 5
}