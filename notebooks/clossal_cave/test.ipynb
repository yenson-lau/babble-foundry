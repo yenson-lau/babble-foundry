{
 "cells": [
  {
   "cell_type": "code",
   "execution_count": null,
   "id": "901d78ae",
   "metadata": {},
   "outputs": [
    {
     "name": "stdout",
     "output_type": "stream",
     "text": [
      "YOU ARE STANDING AT THE END OF A ROAD BEFORE A SMALL BRICK BUILDING.\n",
      "AROUND YOU IS A FOREST.  A SMALL STREAM FLOWS OUT OF THE BUILDING AND\n",
      "DOWN A GULLY.\n"
     ]
    }
   ],
   "source": [
    "from babble_foundry.clossal_cave.game import ClossalCaveGame\n",
    "\n",
    "game = ClossalCaveGame()\n",
    "# print(game.read())\n",
    "game.write('no')\n",
    "print(game.read())"
   ]
  },
  {
   "cell_type": "code",
   "execution_count": null,
   "id": "6a6eb37f",
   "metadata": {},
   "outputs": [
    {
     "name": "stdout",
     "output_type": "stream",
     "text": [
      "YOU'RE NOT CARRYING ANYTHING.\n"
     ]
    }
   ],
   "source": [
    "game.write(\"inventory\")\n",
    "print(game.read())"
   ]
  },
  {
   "cell_type": "code",
   "execution_count": 8,
   "id": "773a5ce4",
   "metadata": {},
   "outputs": [
    {
     "name": "stdout",
     "output_type": "stream",
     "text": [
      "YOU ARE INSIDE A BUILDING, A WELL HOUSE FOR A LARGE SPRING.\n",
      "\n",
      "THERE ARE SOME KEYS ON THE GROUND HERE.\n",
      "\n",
      "THERE IS A SHINY BRASS LAMP NEARBY.\n",
      "\n",
      "THERE IS FOOD HERE.\n",
      "\n",
      "THERE IS A BOTTLE OF WATER HERE.\n"
     ]
    }
   ],
   "source": [
    "game.write('east')\n",
    "print(game.read())"
   ]
  },
  {
   "cell_type": "code",
   "execution_count": 4,
   "id": "334b7287",
   "metadata": {},
   "outputs": [
    {
     "name": "stdout",
     "output_type": "stream",
     "text": [
      "I KNOW OF PLACES, ACTIONS, AND THINGS.  MOST OF MY VOCABULARY\n",
      "DESCRIBES PLACES AND IS USED TO MOVE YOU THERE.  TO MOVE, TRY WORDS\n",
      "LIKE FOREST, BUILDING, DOWNSTREAM, ENTER, EAST, WEST, NORTH, SOUTH,\n",
      "UP, OR DOWN.  I KNOW ABOUT A FEW SPECIAL OBJECTS, LIKE A BLACK ROD\n",
      "HIDDEN IN THE CAVE.  THESE OBJECTS CAN BE MANIPULATED USING SOME OF\n",
      "THE ACTION WORDS THAT I KNOW.  USUALLY YOU WILL NEED TO GIVE BOTH THE\n",
      "OBJECT AND ACTION WORDS (IN EITHER ORDER), BUT SOMETIMES I CAN INFER\n",
      "THE OBJECT FROM THE VERB ALONE.  SOME OBJECTS ALSO IMPLY VERBS; IN\n",
      "PARTICULAR, \"INVENTORY\" IMPLIES \"TAKE INVENTORY\", WHICH CAUSES ME TO\n",
      "GIVE YOU A LIST OF WHAT YOU'RE CARRYING.  THE OBJECTS HAVE SIDE\n",
      "EFFECTS; FOR INSTANCE, THE ROD SCARES THE BIRD.  USUALLY PEOPLE HAVING\n",
      "TROUBLE MOVING JUST NEED TO TRY A FEW MORE WORDS.  USUALLY PEOPLE\n",
      "TRYING UNSUCCESSFULLY TO MANIPULATE AN OBJECT ARE ATTEMPTING SOMETHING\n",
      "BEYOND THEIR (OR MY!) CAPABILITIES AND SHOULD TRY A COMPLETELY\n",
      "DIFFERENT TACK.  TO SPEED THE GAME YOU CAN SOMETIMES MOVE LONG\n",
      "DISTANCES WITH A SINGLE WORD.  FOR EXAMPLE, \"BUILDING\" USUALLY GETS\n",
      "YOU TO THE BUILDING FROM ANYWHERE ABOVE GROUND EXCEPT WHEN LOST IN THE\n",
      "FOREST.  ALSO, NOTE THAT CAVE PASSAGES TURN A LOT, AND THAT LEAVING A\n",
      "ROOM TO THE NORTH DOES NOT GUARANTEE ENTERING THE NEXT FROM THE SOUTH.\n",
      "GOOD LUCK!\n"
     ]
    }
   ],
   "source": [
    "game.write('help')\n",
    "print(game.read())"
   ]
  },
  {
   "cell_type": "code",
   "execution_count": 5,
   "id": "ad7be3d9",
   "metadata": {},
   "outputs": [
    {
     "name": "stdout",
     "output_type": "stream",
     "text": [
      "IF YOU WANT TO END YOUR ADVENTURE EARLY, SAY \"QUIT\".  TO SUSPEND YOUR\n",
      "ADVENTURE SUCH THAT YOU CAN CONTINUE LATER, SAY \"SUSPEND\" (OR \"PAUSE\"\n",
      "OR \"SAVE\").  TO SEE WHAT HOURS THE CAVE IS NORMALLY OPEN, SAY \"HOURS\".\n",
      "TO SEE HOW WELL YOU'RE DOING, SAY \"SCORE\".  TO GET FULL CREDIT FOR A\n",
      "TREASURE, YOU MUST HAVE LEFT IT SAFELY IN THE BUILDING, THOUGH YOU GET\n",
      "PARTIAL CREDIT JUST FOR LOCATING IT.  YOU LOSE POINTS FOR GETTING\n",
      "KILLED, OR FOR QUITTING, THOUGH THE FORMER COSTS YOU MORE.  THERE ARE\n",
      "ALSO POINTS BASED ON HOW MUCH (IF ANY) OF THE CAVE YOU'VE MANAGED TO\n",
      "EXPLORE; IN PARTICULAR, THERE IS A LARGE BONUS JUST FOR GETTING IN (TO\n",
      "DISTINGUISH THE BEGINNERS FROM THE REST OF THE PACK), AND THERE ARE\n",
      "OTHER WAYS TO DETERMINE WHETHER YOU'VE BEEN THROUGH SOME OF THE MORE\n",
      "HARROWING SECTIONS.  IF YOU THINK YOU'VE FOUND ALL THE TREASURES, JUST\n",
      "KEEP EXPLORING FOR A WHILE.  IF NOTHING INTERESTING HAPPENS, YOU\n",
      "HAVEN'T FOUND THEM ALL YET.  IF SOMETHING INTERESTING *DOES* HAPPEN,\n",
      "IT MEANS YOU'RE GETTING A BONUS AND HAVE AN OPPORTUNITY TO GARNER MANY\n",
      "MORE POINTS IN THE MASTER'S SECTION.  I MAY OCCASIONALLY OFFER HINTS\n",
      "IF YOU SEEM TO BE HAVING TROUBLE.  IF I DO, I'LL WARN YOU IN ADVANCE\n",
      "HOW MUCH IT WILL AFFECT YOUR SCORE TO ACCEPT THE HINTS.  FINALLY, TO\n",
      "SAVE PAPER, YOU MAY SPECIFY \"BRIEF\", WHICH TELLS ME NEVER TO REPEAT\n",
      "THE FULL DESCRIPTION OF A PLACE UNLESS YOU EXPLICITLY ASK ME TO.\n"
     ]
    }
   ],
   "source": [
    "game.write('info')\n",
    "print(game.read())"
   ]
  },
  {
   "cell_type": "code",
   "execution_count": 9,
   "id": "9635dd73",
   "metadata": {},
   "outputs": [
    {
     "name": "stdout",
     "output_type": "stream",
     "text": [
      "OK\n",
      "\n",
      "\n",
      "YOU SCORED 31 OUT OF A POSSIBLE 350 USING 4 TURNS.\n",
      "\n",
      "YOU ARE OBVIOUSLY A RANK AMATEUR.  BETTER LUCK NEXT TIME.\n",
      "\n",
      "TO ACHIEVE THE NEXT HIGHER RATING, YOU NEED 70 MORE POINTS\n"
     ]
    }
   ],
   "source": [
    "game.write(\"yes\")\n",
    "print(game.read())"
   ]
  },
  {
   "cell_type": "code",
   "execution_count": 10,
   "id": "063f75f8",
   "metadata": {},
   "outputs": [
    {
     "data": {
      "text/plain": [
       "(27, 350)"
      ]
     },
     "execution_count": 10,
     "metadata": {},
     "output_type": "execute_result"
    }
   ],
   "source": [
    "game.score"
   ]
  }
 ],
 "metadata": {
  "kernelspec": {
   "display_name": ".venv",
   "language": "python",
   "name": "python3"
  },
  "language_info": {
   "codemirror_mode": {
    "name": "ipython",
    "version": 3
   },
   "file_extension": ".py",
   "mimetype": "text/x-python",
   "name": "python",
   "nbconvert_exporter": "python",
   "pygments_lexer": "ipython3",
   "version": "3.13.7"
  }
 },
 "nbformat": 4,
 "nbformat_minor": 5
}
