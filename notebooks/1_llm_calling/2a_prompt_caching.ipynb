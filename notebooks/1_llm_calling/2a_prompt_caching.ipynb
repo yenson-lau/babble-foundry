{
 "cells": [
  {
   "cell_type": "markdown",
   "id": "c3684a02",
   "metadata": {},
   "source": [
    "## Prompt Caching"
   ]
  },
  {
   "cell_type": "code",
   "execution_count": 1,
   "id": "74118f4e",
   "metadata": {},
   "outputs": [
    {
     "data": {
      "text/plain": [
       "True"
      ]
     },
     "metadata": {},
     "output_type": "display_data"
    }
   ],
   "source": [
    "from dotenv import load_dotenv\n",
    "from babble_foundry.openrouter import OpenRouter\n",
    "\n",
    "display(load_dotenv(override=True))\n",
    "\n",
    "client = OpenRouter()"
   ]
  },
  {
   "cell_type": "code",
   "execution_count": 2,
   "id": "9f7b3a5a",
   "metadata": {},
   "outputs": [],
   "source": [
    "import time\n",
    "\n",
    "class Timer:\n",
    "    def __init__(self):\n",
    "        self.reset()\n",
    "\n",
    "    def reset(self):\n",
    "        self.start_time = time.time()\n",
    "\n",
    "    def get_elapsed(self, verbose: bool = False) -> float:\n",
    "        elapsed_time = time.time() - self.start_time\n",
    "        if verbose:\n",
    "            print(f\"{time.time() - self.start_time:.2f} seconds elapsed\")\n",
    "        return elapsed_time\n",
    "\n",
    "timer = Timer()"
   ]
  },
  {
   "cell_type": "code",
   "execution_count": 3,
   "id": "418dfbae",
   "metadata": {},
   "outputs": [
    {
     "name": "stdout",
     "output_type": "stream",
     "text": [
      "CHAPTER 1. Loomings.\n",
      "\n",
      "Call me Ishmael. Some years ago—never mind how long precisely—having\n",
      "little or no money in my purse, and nothing particular to interest me\n",
      "on shore, I thought I would sail ab\n",
      "\n",
      "...\n",
      "\n",
      "ime of his God?”\n",
      "\n",
      "He said no more, but slowly waving a benediction, covered his face with\n",
      "his hands, and so remained kneeling, till all the people had departed,\n",
      "and he was left alone in the place.\n",
      "\n",
      "102580 characters\n",
      "25487 tokens\n"
     ]
    }
   ],
   "source": [
    "import re\n",
    "import requests\n",
    "import tiktoken\n",
    "\n",
    "very_long_text = requests.get(\"https://www.gutenberg.org/ebooks/2701.txt.utf-8\", timeout=60).text\n",
    "\n",
    "# crude: extract Chapter 1 only\n",
    "first_chapters_pattern = r'(CHAPTER 1\\..*?)CHAPTER 10.'\n",
    "matches = re.findall(first_chapters_pattern, very_long_text, re.DOTALL | re.IGNORECASE)\n",
    "very_long_text = matches[1].strip()\n",
    "\n",
    "print(f\"{very_long_text[:200]}\\n\\n...\\n\\n{very_long_text[-200:]}\", end=\"\\n\\n\")\n",
    "print(f\"{len(very_long_text)} characters\")\n",
    "\n",
    "enc = tiktoken.get_encoding(\"cl100k_base\")\n",
    "tokens = enc.encode(very_long_text)\n",
    "print(f\"{len(tokens)} tokens\")"
   ]
  },
  {
   "cell_type": "code",
   "execution_count": 4,
   "id": "719137d4",
   "metadata": {},
   "outputs": [
    {
     "name": "stdout",
     "output_type": "stream",
     "text": [
      "- The narrator, Ishmael, explains his desire to go to sea to escape feelings of despair and restlessness. He observes that many people share a similar attraction to the ocean, suggesting a universal connection to the sea.\n",
      "- Ishmael arrives in New Bedford and searches for lodging before embarking on a whaling voyage. He encounters various inns and eventually chooses the Spouter Inn, where he meets Queequeg, a tattooed harpooneer from the South Seas.\n",
      "- Ishmael and Queequeg share a room, and their initial encounter is marked by humor and cultural contrasts, revealing differences in their backgrounds and customs, yet leading to a budding friendship.\n",
      "- The chapters depict a vibrant community of seamen and diverse characters in New Bedford, portraying a world where whaling and maritime adventures thrive, alongside profound themes of identity, belonging, and the human condition.\n",
      "- The chapters also introduce the Whalemanâs Chapel, where the congregation reflects on loss and faith, emphasizing the dangers of whaling and the spiritual dimension of seafaring life.\n",
      "\n",
      "5.08 seconds elapsed\n",
      "\n"
     ]
    },
    {
     "data": {
      "text/plain": [
       "{'id': 'gen-1756712888-eEblQ1ACibQI8nd3z4v1',\n",
       " 'provider': 'OpenAI',\n",
       " 'model': 'openai/gpt-4o-mini',\n",
       " 'object': 'chat.completion.chunk',\n",
       " 'created': 1756712888,\n",
       " 'choices': [{'index': 0,\n",
       "   'delta': {'role': 'assistant', 'content': ''},\n",
       "   'finish_reason': None,\n",
       "   'native_finish_reason': None,\n",
       "   'logprobs': None}],\n",
       " 'usage': {'prompt_tokens': 25368,\n",
       "  'completion_tokens': 212,\n",
       "  'total_tokens': 25580,\n",
       "  'cost': 0.0039324,\n",
       "  'is_byok': False,\n",
       "  'prompt_tokens_details': {'cached_tokens': 0, 'audio_tokens': 0},\n",
       "  'cost_details': {'upstream_inference_cost': None,\n",
       "   'upstream_inference_prompt_cost': 0.0038052,\n",
       "   'upstream_inference_completions_cost': 0.0001272},\n",
       "  'completion_tokens_details': {'reasoning_tokens': 0, 'image_tokens': 0}}}"
      ]
     },
     "metadata": {},
     "output_type": "display_data"
    }
   ],
   "source": [
    "from datetime import datetime\n",
    "\n",
    "model_id = \"openai/gpt-4o-mini\"\n",
    "system_message = (\n",
    "    f\"The time now is {datetime.now().strftime('%Y-%m-%d %H:%M:%S')}.\"\n",
    "    \"Your job is to summarize the text provided by the user in 5 bullet points or less.\"\n",
    ")\n",
    "messages = [\n",
    "    {\"role\": \"system\", \"content\": system_message},\n",
    "    {\"role\": \"user\", \"content\": very_long_text}\n",
    "]\n",
    "\n",
    "timer.reset()\n",
    "stream = client.chat(model=model_id, messages=messages, usage={\"include\": True}, stream=True, verbose=True)\n",
    "chunks = list(stream)\n",
    "\n",
    "print()\n",
    "_ = timer.get_elapsed(verbose=True)\n",
    "print()\n",
    "\n",
    "display(chunks[-1])"
   ]
  },
  {
   "cell_type": "code",
   "execution_count": 5,
   "id": "c337b2e5",
   "metadata": {},
   "outputs": [
    {
     "name": "stdout",
     "output_type": "stream",
     "text": [
      "- **Ishmael's Journey**: Ishmael introduces himself, sharing his desire to go to sea as a remedy for his melancholy and boredom, highlighting the allure and magnetic draw of the ocean for many men.\n",
      "\n",
      "- **Descriptive Setting**: The text vividly depicts the city of New Bedford and its maritime culture, illustrating the myriad characters and settings that populate the whaling industry, including inns filled with sailors and the communal spirit of life at sea.\n",
      "\n",
      "- **Arrival and Accommodations**: Ishmael struggles to find lodging in New Bedford and ends up sharing a bed with Queequeg, a tattooed harpooner. This encounter showcases the mingling of cultures and the unique personalities one finds in the whaling community.\n",
      "\n",
      "- **Queequeg's Character**: Queequeg's strange customs and appearance lead to Ishmaelâs initial apprehension, but he grows to see Queequeg as a friend, reflecting themes of acceptance and the breaking down of cultural barriers.\n",
      "\n",
      "- **Moral and Spiritual Reflections**: Through church visits, the preacher Father Mapple delivers a powerful sermon, connecting the lessons of Jonah's story to themes of sin, repentance, and the personal struggles of sailors, ultimately presenting a stark view of mortality and duty at sea.\n",
      "\n",
      "4.41 seconds elapsed\n",
      "\n"
     ]
    },
    {
     "data": {
      "text/plain": [
       "{'id': 'gen-1756712893-FggZueH0KnkTYW14N0r4',\n",
       " 'provider': 'OpenAI',\n",
       " 'model': 'openai/gpt-4o-mini',\n",
       " 'object': 'chat.completion.chunk',\n",
       " 'created': 1756712893,\n",
       " 'choices': [{'index': 0,\n",
       "   'delta': {'role': 'assistant', 'content': ''},\n",
       "   'finish_reason': None,\n",
       "   'native_finish_reason': None,\n",
       "   'logprobs': None}],\n",
       " 'usage': {'prompt_tokens': 25368,\n",
       "  'completion_tokens': 258,\n",
       "  'total_tokens': 25626,\n",
       "  'cost': 0.0020592,\n",
       "  'is_byok': False,\n",
       "  'prompt_tokens_details': {'cached_tokens': 25344, 'audio_tokens': 0},\n",
       "  'cost_details': {'upstream_inference_cost': None,\n",
       "   'upstream_inference_prompt_cost': 0.0019044,\n",
       "   'upstream_inference_completions_cost': 0.0001548},\n",
       "  'completion_tokens_details': {'reasoning_tokens': 0, 'image_tokens': 0}}}"
      ]
     },
     "metadata": {},
     "output_type": "display_data"
    }
   ],
   "source": [
    "timer.reset()\n",
    "stream = client.chat(model=model_id, messages=messages, usage={\"include\": True}, stream=True, verbose=True)\n",
    "chunks = list(stream)\n",
    "\n",
    "print()\n",
    "_ = timer.get_elapsed(verbose=True)\n",
    "print()\n",
    "\n",
    "display(chunks[-1])"
   ]
  }
 ],
 "metadata": {
  "kernelspec": {
   "display_name": ".venv",
   "language": "python",
   "name": "python3"
  },
  "language_info": {
   "codemirror_mode": {
    "name": "ipython",
    "version": 3
   },
   "file_extension": ".py",
   "mimetype": "text/x-python",
   "name": "python",
   "nbconvert_exporter": "python",
   "pygments_lexer": "ipython3",
   "version": "3.13.7"
  }
 },
 "nbformat": 4,
 "nbformat_minor": 5
}
