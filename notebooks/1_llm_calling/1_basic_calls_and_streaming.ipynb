{
 "cells": [
  {
   "cell_type": "markdown",
   "id": "879a6226",
   "metadata": {},
   "source": [
    "### The OpenRouter client"
   ]
  },
  {
   "cell_type": "code",
   "execution_count": 1,
   "id": "488687e3",
   "metadata": {},
   "outputs": [
    {
     "data": {
      "text/plain": [
       "True"
      ]
     },
     "metadata": {},
     "output_type": "display_data"
    }
   ],
   "source": [
    "from dotenv import load_dotenv\n",
    "from babble_foundry.openrouter import OpenRouter\n",
    "\n",
    "display(load_dotenv(override=True))\n",
    "\n",
    "client = OpenRouter()"
   ]
  },
  {
   "cell_type": "markdown",
   "id": "837d2bd4",
   "metadata": {},
   "source": [
    "### Making an example LLM API call"
   ]
  },
  {
   "cell_type": "code",
   "execution_count": 2,
   "id": "0dd1b3c3",
   "metadata": {},
   "outputs": [
    {
     "name": "stdout",
     "output_type": "stream",
     "text": [
      "- **Neighborhoods:** Kensington Market, The Annex, Queen West, Leslieville, and Distillery District offer vibrant street life, cafes, and shops ideal for casual encounters.\n",
      "- **Events:** Attend festivals like Toronto International Film Festival (TIFF), Pride Toronto, or seasonal markets; join meetup groups for hobbies like hiking or board games.\n",
      "- **Communities:** Volunteer with organizations like Toronto Wildlife Centre or local food banks; join sports leagues such as Toronto Sports & Social Club.\n",
      "- **Spaces:** Visit public libraries, community centers, or co-working hubs; explore parks like Trinity Bellwoods or High Park for social activities.\n",
      "- **Online:** Use apps like Meetup, Bumble BFF, or local Facebook groups focused on interests like art, tech, or language exchange.\n"
     ]
    }
   ],
   "source": [
    "model_id = \"deepseek/deepseek-chat-v3.1:free\"\n",
    "messages = [\n",
    "    {\"role\": \"system\", \"content\": \"You answer all questions using 5 short bullet points or less.\"},  # this is optional\n",
    "    {\"role\": \"user\", \"content\": \"What are some places, events, or communities to meet people in Toronto?\"}\n",
    "]\n",
    "\n",
    "response = client.chat(model=model_id, messages=messages, reasoning={\"enabled\": False}, verbose=True)"
   ]
  },
  {
   "cell_type": "code",
   "execution_count": 3,
   "id": "86618fea",
   "metadata": {},
   "outputs": [
    {
     "data": {
      "text/plain": [
       "{'id': 'gen-1756707336-yhM7LvGB8CWTy9bRhQ6m',\n",
       " 'provider': 'DeepInfra',\n",
       " 'model': 'deepseek/deepseek-chat-v3.1:free',\n",
       " 'object': 'chat.completion',\n",
       " 'created': 1756707336,\n",
       " 'choices': [{'logprobs': None,\n",
       "   'finish_reason': 'stop',\n",
       "   'native_finish_reason': 'stop',\n",
       "   'index': 0,\n",
       "   'message': {'role': 'assistant',\n",
       "    'content': '- **Neighborhoods:** Kensington Market, The Annex, Queen West, Leslieville, and Distillery District offer vibrant street life, cafes, and shops ideal for casual encounters.\\n- **Events:** Attend festivals like Toronto International Film Festival (TIFF), Pride Toronto, or seasonal markets; join meetup groups for hobbies like hiking or board games.\\n- **Communities:** Volunteer with organizations like Toronto Wildlife Centre or local food banks; join sports leagues such as Toronto Sports & Social Club.\\n- **Spaces:** Visit public libraries, community centers, or co-working hubs; explore parks like Trinity Bellwoods or High Park for social activities.\\n- **Online:** Use apps like Meetup, Bumble BFF, or local Facebook groups focused on interests like art, tech, or language exchange.',\n",
       "    'refusal': None,\n",
       "    'reasoning': None}}],\n",
       " 'usage': {'prompt_tokens': 32,\n",
       "  'completion_tokens': 162,\n",
       "  'total_tokens': 194,\n",
       "  'prompt_tokens_details': None}}"
      ]
     },
     "metadata": {},
     "output_type": "display_data"
    }
   ],
   "source": [
    "display(response)"
   ]
  },
  {
   "cell_type": "markdown",
   "id": "b5f9d8f1",
   "metadata": {},
   "source": [
    "### Streaming"
   ]
  },
  {
   "cell_type": "code",
   "execution_count": 4,
   "id": "eaa5078c",
   "metadata": {},
   "outputs": [
    {
     "name": "stdout",
     "output_type": "stream",
     "text": [
      "- **Neighborhoods**: Kensington Market, The Annex, and Leslieville offer vibrant street life, cafes, and local shops ideal for casual interactions.\n",
      "- **Events**: Attend festivals like TIFF (Toronto International Film Festival), Pride Toronto, or seasonal markets such as the Distillery District Christmas Market.\n",
      "- **Recreational Leagues**: Join sports or hobby groups via Toronto Sport & Social Club or Meetup.com for activities like hiking, board games, or running.\n",
      "- **Cultural Venues**: Visit art galleries (AGO), museums (ROM), or live music spots (Horseshoe Tavern) to connect with like-minded enthusiasts.\n",
      "- **Volunteering**: Engage with organizations like Toronto Wildlife Centre or local food banks to meet compassionate, community-focused individuals."
     ]
    }
   ],
   "source": [
    "stream = client.chat(model=model_id, messages=messages, reasoning={\"enabled\": False}, stream=True, verbose=True)\n",
    "chunks = list(stream)"
   ]
  },
  {
   "cell_type": "code",
   "execution_count": 5,
   "id": "0374bb2a",
   "metadata": {},
   "outputs": [
    {
     "data": {
      "text/plain": [
       "[{'id': 'gen-1756707351-vGrPxZpUOLPJp4hM1ASZ',\n",
       "  'provider': 'DeepInfra',\n",
       "  'model': 'deepseek/deepseek-chat-v3.1:free',\n",
       "  'object': 'chat.completion.chunk',\n",
       "  'created': 1756707351,\n",
       "  'choices': [{'index': 0,\n",
       "    'delta': {'role': 'assistant',\n",
       "     'content': '-',\n",
       "     'reasoning': None,\n",
       "     'reasoning_details': []},\n",
       "    'finish_reason': None,\n",
       "    'native_finish_reason': None,\n",
       "    'logprobs': None}]},\n",
       " {'id': 'gen-1756707351-vGrPxZpUOLPJp4hM1ASZ',\n",
       "  'provider': 'DeepInfra',\n",
       "  'model': 'deepseek/deepseek-chat-v3.1:free',\n",
       "  'object': 'chat.completion.chunk',\n",
       "  'created': 1756707351,\n",
       "  'choices': [{'index': 0,\n",
       "    'delta': {'role': 'assistant',\n",
       "     'content': ' **',\n",
       "     'reasoning': None,\n",
       "     'reasoning_details': []},\n",
       "    'finish_reason': None,\n",
       "    'native_finish_reason': None,\n",
       "    'logprobs': None}]},\n",
       " {'id': 'gen-1756707351-vGrPxZpUOLPJp4hM1ASZ',\n",
       "  'provider': 'DeepInfra',\n",
       "  'model': 'deepseek/deepseek-chat-v3.1:free',\n",
       "  'object': 'chat.completion.chunk',\n",
       "  'created': 1756707351,\n",
       "  'choices': [{'index': 0,\n",
       "    'delta': {'role': 'assistant',\n",
       "     'content': 'Ne',\n",
       "     'reasoning': None,\n",
       "     'reasoning_details': []},\n",
       "    'finish_reason': None,\n",
       "    'native_finish_reason': None,\n",
       "    'logprobs': None}]}]"
      ]
     },
     "metadata": {},
     "output_type": "display_data"
    }
   ],
   "source": [
    "display(chunks[:3])"
   ]
  },
  {
   "cell_type": "markdown",
   "id": "e4a4ed08",
   "metadata": {},
   "source": [
    "### Reasoning"
   ]
  },
  {
   "cell_type": "code",
   "execution_count": 6,
   "id": "6b432252",
   "metadata": {},
   "outputs": [
    {
     "name": "stdout",
     "output_type": "stream",
     "text": [
      "===== REASONING =====\n",
      "Hmm, the user is asking about places, events, and communities in Toronto to meet people. They likely want concise, practical suggestions without unnecessary details. \n",
      "\n",
      "I can break this down into categories: public spaces, events, and communities. For each, I’ll pick the most popular or accessible options. Public spaces like parks and markets are easy to recommend. Events should cover both cultural and social types. Communities could include hobby groups and volunteering. \n",
      "\n",
      "I’ll keep it short with bullet points, as requested, focusing on variety and inclusivity. No need to overexplain—just the essentials.\n",
      "===== END OF REASONING =====\n",
      "\n",
      "- **Public spaces**: Trinity Bellwoods Park, Kensington Market, Harbourfront Centre.\n",
      "- **Events**: Toronto International Film Festival (TIFF), Pride Parade, local farmers' markets.\n",
      "- **Communities**: Meetup groups for hobbies, sports leagues, volunteer organizations.\n",
      "- **Cultural hubs**: Art Gallery of Ontario (AGO), Royal Ontario Museum (ROM) events.\n",
      "- **Nightlife & cafes**: Queen West bars, coffee shops in Leslieville, live music venues.\n"
     ]
    }
   ],
   "source": [
    "response = client.chat(model=model_id, messages=messages, reasoning={\"enabled\": True}, verbose=True)"
   ]
  },
  {
   "cell_type": "code",
   "execution_count": 7,
   "id": "e88cc8f4",
   "metadata": {},
   "outputs": [
    {
     "data": {
      "text/plain": [
       "{'id': 'gen-1756707359-F2WgSZS31GsW4teOxGn0',\n",
       " 'provider': 'DeepInfra',\n",
       " 'model': 'deepseek/deepseek-chat-v3.1:free',\n",
       " 'object': 'chat.completion',\n",
       " 'created': 1756707359,\n",
       " 'choices': [{'logprobs': None,\n",
       "   'finish_reason': 'stop',\n",
       "   'native_finish_reason': 'stop',\n",
       "   'index': 0,\n",
       "   'message': {'role': 'assistant',\n",
       "    'content': \"- **Public spaces**: Trinity Bellwoods Park, Kensington Market, Harbourfront Centre.\\n- **Events**: Toronto International Film Festival (TIFF), Pride Parade, local farmers' markets.\\n- **Communities**: Meetup groups for hobbies, sports leagues, volunteer organizations.\\n- **Cultural hubs**: Art Gallery of Ontario (AGO), Royal Ontario Museum (ROM) events.\\n- **Nightlife & cafes**: Queen West bars, coffee shops in Leslieville, live music venues.\",\n",
       "    'refusal': None,\n",
       "    'reasoning': 'Hmm, the user is asking about places, events, and communities in Toronto to meet people. They likely want concise, practical suggestions without unnecessary details. \\n\\nI can break this down into categories: public spaces, events, and communities. For each, I’ll pick the most popular or accessible options. Public spaces like parks and markets are easy to recommend. Events should cover both cultural and social types. Communities could include hobby groups and volunteering. \\n\\nI’ll keep it short with bullet points, as requested, focusing on variety and inclusivity. No need to overexplain—just the essentials.'}}],\n",
       " 'usage': {'prompt_tokens': 32,\n",
       "  'completion_tokens': 221,\n",
       "  'total_tokens': 253,\n",
       "  'prompt_tokens_details': None}}"
      ]
     },
     "metadata": {},
     "output_type": "display_data"
    }
   ],
   "source": [
    "display(response)"
   ]
  },
  {
   "cell_type": "code",
   "execution_count": 8,
   "id": "b3096ef6",
   "metadata": {},
   "outputs": [
    {
     "name": "stdout",
     "output_type": "stream",
     "text": [
      "===== REASONING =====\n",
      "Hmm, the user is asking about places, events, and communities in Toronto to meet people. They likely want concise, actionable suggestions rather than an exhaustive list. \n",
      "\n",
      "I can break this down into categories: public spaces, events, and communities. Public spaces like parks and markets are good for casual encounters. Events like festivals and sports games offer structured social opportunities. Communities centered around hobbies or volunteering provide deeper connections. \n",
      "\n",
      "Iâll keep it short with bullet points, focusing on variety and accessibility. No need to over-explainâjust the highlights.\n",
      "===== END OF REASONING =====\n",
      "\n",
      "- **Public spaces:** Trinity Bellwoods Park, Kensington Market, Harbourfront Centre.\n",
      "- **Events:** Toronto International Film Festival (TIFF), Pride Parade, local farmers' markets.\n",
      "- **Communities:** Meetup groups for hiking or tech, volunteer organizations, cultural associations.\n",
      "- **Social spots:** Coffee shops in Queen West, breweries in the East End, co-working spaces.\n",
      "- **Activities:** Join a sports league, art classes, or board game cafes like Snakes & Lattes."
     ]
    }
   ],
   "source": [
    "stream = client.chat(model=model_id, messages=messages, reasoning={\"enabled\": True}, stream=True, verbose=True)\n",
    "chunks = list(stream)"
   ]
  },
  {
   "cell_type": "code",
   "execution_count": 9,
   "id": "ceb5abab",
   "metadata": {},
   "outputs": [
    {
     "data": {
      "text/plain": [
       "[{'id': 'gen-1756707370-jaOC3Zdt7WH9aQUmHxds',\n",
       "  'provider': 'DeepInfra',\n",
       "  'model': 'deepseek/deepseek-chat-v3.1:free',\n",
       "  'object': 'chat.completion.chunk',\n",
       "  'created': 1756707370,\n",
       "  'choices': [{'index': 0,\n",
       "    'delta': {'role': 'assistant',\n",
       "     'content': '',\n",
       "     'reasoning': 'H',\n",
       "     'reasoning_details': []},\n",
       "    'finish_reason': None,\n",
       "    'native_finish_reason': None,\n",
       "    'logprobs': None}]},\n",
       " {'id': 'gen-1756707370-jaOC3Zdt7WH9aQUmHxds',\n",
       "  'provider': 'DeepInfra',\n",
       "  'model': 'deepseek/deepseek-chat-v3.1:free',\n",
       "  'object': 'chat.completion.chunk',\n",
       "  'created': 1756707370,\n",
       "  'choices': [{'index': 0,\n",
       "    'delta': {'role': 'assistant',\n",
       "     'content': '',\n",
       "     'reasoning': 'mm,',\n",
       "     'reasoning_details': []},\n",
       "    'finish_reason': None,\n",
       "    'native_finish_reason': None,\n",
       "    'logprobs': None}]},\n",
       " {'id': 'gen-1756707370-jaOC3Zdt7WH9aQUmHxds',\n",
       "  'provider': 'DeepInfra',\n",
       "  'model': 'deepseek/deepseek-chat-v3.1:free',\n",
       "  'object': 'chat.completion.chunk',\n",
       "  'created': 1756707370,\n",
       "  'choices': [{'index': 0,\n",
       "    'delta': {'role': 'assistant',\n",
       "     'content': '',\n",
       "     'reasoning': ' the user',\n",
       "     'reasoning_details': []},\n",
       "    'finish_reason': None,\n",
       "    'native_finish_reason': None,\n",
       "    'logprobs': None}]}]"
      ]
     },
     "metadata": {},
     "output_type": "display_data"
    }
   ],
   "source": [
    "display(chunks[:3])"
   ]
  },
  {
   "cell_type": "code",
   "execution_count": 10,
   "id": "2575d0d3",
   "metadata": {},
   "outputs": [
    {
     "data": {
      "text/plain": [
       "[{'id': 'gen-1756707370-jaOC3Zdt7WH9aQUmHxds',\n",
       "  'provider': 'DeepInfra',\n",
       "  'model': 'deepseek/deepseek-chat-v3.1:free',\n",
       "  'object': 'chat.completion.chunk',\n",
       "  'created': 1756707370,\n",
       "  'choices': [{'index': 0,\n",
       "    'delta': {'role': 'assistant',\n",
       "     'content': 'attes',\n",
       "     'reasoning': None,\n",
       "     'reasoning_details': []},\n",
       "    'finish_reason': None,\n",
       "    'native_finish_reason': None,\n",
       "    'logprobs': None}]},\n",
       " {'id': 'gen-1756707370-jaOC3Zdt7WH9aQUmHxds',\n",
       "  'provider': 'DeepInfra',\n",
       "  'model': 'deepseek/deepseek-chat-v3.1:free',\n",
       "  'object': 'chat.completion.chunk',\n",
       "  'created': 1756707370,\n",
       "  'choices': [{'index': 0,\n",
       "    'delta': {'role': 'assistant',\n",
       "     'content': '.',\n",
       "     'reasoning': None,\n",
       "     'reasoning_details': []},\n",
       "    'finish_reason': 'stop',\n",
       "    'native_finish_reason': 'stop',\n",
       "    'logprobs': None}]},\n",
       " {'id': 'gen-1756707370-jaOC3Zdt7WH9aQUmHxds',\n",
       "  'provider': 'DeepInfra',\n",
       "  'model': 'deepseek/deepseek-chat-v3.1:free',\n",
       "  'object': 'chat.completion.chunk',\n",
       "  'created': 1756707370,\n",
       "  'choices': [{'index': 0,\n",
       "    'delta': {'role': 'assistant', 'content': ''},\n",
       "    'finish_reason': None,\n",
       "    'native_finish_reason': None,\n",
       "    'logprobs': None}],\n",
       "  'usage': {'prompt_tokens': 32,\n",
       "   'completion_tokens': 217,\n",
       "   'total_tokens': 249,\n",
       "   'prompt_tokens_details': None}}]"
      ]
     },
     "metadata": {},
     "output_type": "display_data"
    }
   ],
   "source": [
    "display(chunks[-3:])"
   ]
  }
 ],
 "metadata": {
  "kernelspec": {
   "display_name": ".venv",
   "language": "python",
   "name": "python3"
  },
  "language_info": {
   "codemirror_mode": {
    "name": "ipython",
    "version": 3
   },
   "file_extension": ".py",
   "mimetype": "text/x-python",
   "name": "python",
   "nbconvert_exporter": "python",
   "pygments_lexer": "ipython3",
   "version": "3.13.7"
  }
 },
 "nbformat": 4,
 "nbformat_minor": 5
}
