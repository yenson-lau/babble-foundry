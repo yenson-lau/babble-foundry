{
 "cells": [
  {
   "cell_type": "code",
   "execution_count": null,
   "id": "daf873fe",
   "metadata": {},
   "outputs": [],
   "source": [
    "import requests\n",
    "from babble_foundry.openrouter import OpenRouter\n",
    "\n",
    "def search_gutenberg_books(search_terms: list[str]) -> list[dict]:\n",
    "    search_query = \" \".join(search_terms)\n",
    "    url = \"https://gutendex.com/books\"\n",
    "    response = requests.get(url, params={\"search\": search_query})\n",
    "\n",
    "    simplified_results = []\n",
    "    for book in response.json().get(\"results\", []):\n",
    "        result = {\n",
    "            \"id\": book.get(\"id\"),\n",
    "            \"title\": book.get(\"title\"),\n",
    "            \"authors\": book.get(\"authors\")\n",
    "        }\n",
    "        simplified_results.append(result)\n",
    "\n",
    "    return simplified_results\n",
    "\n",
    "tools = [\n",
    "    {\n",
    "        \"type\": \"function\",\n",
    "        \"function\": {\n",
    "            \"name\": \"search_gutenberg_books\",\n",
    "            \"description\": \"Search for books in the Project Gutenberg library based on specified search terms\",\n",
    "            \"parameters\": {\n",
    "                \"type\": \"object\",\n",
    "                  \"properties\": {\n",
    "                    \"search_terms\": {\n",
    "                        \"type\": \"array\",\n",
    "                        \"items\": {\"type\": \"string\"},\n",
    "                        \"description\": (\n",
    "                            \"List of search terms to find books in the Gutenberg\"\n",
    "                            \" library (e.g. ['dickens', 'great'] to search for books\"\n",
    "                            \" by Dickens with 'great' in the title)\"\n",
    "                        )\n",
    "                    }\n",
    "                },\n",
    "                \"required\": [\"search_terms\"]\n",
    "            }\n",
    "        }\n",
    "    }\n",
    "]\n",
    "\n",
    "TOOL_MAPPING = {\n",
    "    \"search_gutenberg_books\": search_gutenberg_books\n",
    "}\n",
    "\n",
    "client = OpenRouter()\n",
    "\n",
    "response = client.chat(\n",
    "    model=\"z-ai/glm-4.5-air:free\",\n",
    "    messages=[\n",
    "        {\"role\": \"system\", \"content\": \"You are a helpful assistant.\"},\n",
    "        {\"role\": \"user\", \"content\": \"What are the titles of some James Joyce books?\"},\n",
    "    ],\n",
    "    tools=tools,\n",
    "    reasoning={\"max_tokens\": 0, \"enabled\": False},\n",
    ")\n",
    "client.print_response(response)"
   ]
  },
  {
   "cell_type": "code",
   "execution_count": 9,
   "id": "0b47cbfb",
   "metadata": {},
   "outputs": [
    {
     "data": {
      "text/plain": [
       "{'id': 'gen-1756690216-oRJ5vgNEUcVBV8JKyNuH',\n",
       " 'provider': 'Z.AI',\n",
       " 'model': 'z-ai/glm-4.5-air:free',\n",
       " 'object': 'chat.completion',\n",
       " 'created': 1756690216,\n",
       " 'choices': [{'logprobs': None,\n",
       "   'finish_reason': 'tool_calls',\n",
       "   'native_finish_reason': 'tool_calls',\n",
       "   'index': 0,\n",
       "   'message': {'role': 'assistant',\n",
       "    'content': \"\\nI'll search for books by James Joyce in the Project Gutenberg library to find some of his works.\\n\",\n",
       "    'refusal': None,\n",
       "    'reasoning': None,\n",
       "    'tool_calls': [{'id': 'call_rSYLE9WIQ8WzCnpiBp4T7Q',\n",
       "      'index': 0,\n",
       "      'type': 'function',\n",
       "      'function': {'name': 'search_gutenberg_books',\n",
       "       'arguments': '{\"search_terms\": [\"Joyce\", \"James\"]}'}}]}}],\n",
       " 'usage': {'prompt_tokens': 241,\n",
       "  'completion_tokens': 44,\n",
       "  'total_tokens': 285,\n",
       "  'prompt_tokens_details': {'cached_tokens': 240}}}"
      ]
     },
     "execution_count": 9,
     "metadata": {},
     "output_type": "execute_result"
    }
   ],
   "source": [
    "response"
   ]
  }
 ],
 "metadata": {
  "kernelspec": {
   "display_name": ".venv",
   "language": "python",
   "name": "python3"
  },
  "language_info": {
   "codemirror_mode": {
    "name": "ipython",
    "version": 3
   },
   "file_extension": ".py",
   "mimetype": "text/x-python",
   "name": "python",
   "nbconvert_exporter": "python",
   "pygments_lexer": "ipython3",
   "version": "3.13.7"
  }
 },
 "nbformat": 4,
 "nbformat_minor": 5
}
